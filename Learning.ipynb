{
 "cells": [
  {
   "cell_type": "code",
   "execution_count": 9,
   "id": "1ba63c7c",
   "metadata": {},
   "outputs": [],
   "source": [
    "import dataset_rad as dataset\n",
    "import loader\n",
    "import random \n",
    "from tqdm import tqdm\n",
    "from torch.utils.data import DataLoader\n",
    "\n",
    "import torch\n",
    "import numpy as np\n",
    "from os import listdir\n",
    "from os.path import isfile, join\n",
    "import matplotlib.pyplot as plt\n",
    "\n",
    "from encoder import *\n",
    "\n",
    "device = torch.device(\"cuda:0\") if torch.cuda.is_available() else torch.device(\"cpu\")"
   ]
  },
  {
   "cell_type": "code",
   "execution_count": 10,
   "id": "583f3774",
   "metadata": {},
   "outputs": [],
   "source": [
    "def get_file_radiation(ind, items, log_=False):\n",
    "    pc = np.load(items[ind])\n",
    "    if log_:\n",
    "        pv = np.log10(pc+np.random.rand(pc.shape)*0.001)\n",
    "    pars = [float(p) for p in items[ind].split('.np')[0].split('/')[-1].split('_')[1:]]\n",
    "    return torch.Tensor(pars).float(), torch.from_numpy(pc).float()"
   ]
  },
  {
   "cell_type": "code",
   "execution_count": 11,
   "id": "d5084677",
   "metadata": {},
   "outputs": [
    {
     "name": "stdout",
     "output_type": "stream",
     "text": [
      "Total number of files:  16807\n"
     ]
    }
   ],
   "source": [
    "path = \"/bigdata/hplsim/aipp/Anna/FEL/gaussian_init/radiation/training_data_test\"\n",
    "\n",
    "onlyfiles = [path+'/'+f for f in listdir(path) if isfile(join(path, f))]\n",
    "\n",
    "dataset_tr = dataset.PCDataset(onlyfiles, get_file_radiation,\n",
    "                               num_files=-1, normalize=True, log_=False)"
   ]
  },
  {
   "cell_type": "code",
   "execution_count": 12,
   "id": "3cb94dfa",
   "metadata": {},
   "outputs": [
    {
     "name": "stdout",
     "output_type": "stream",
     "text": [
      "tensor([-5.0000e-04, -1.0000e-04, -5.0000e-04, -1.0000e-04,  1.7000e+02])\n",
      "tensor([5.0000e-04, 1.0000e-04, 5.0000e-04, 1.0000e-04, 2.4000e+02])\n"
     ]
    }
   ],
   "source": [
    "dataset_tr.vmin = torch.load('vmin_outputs.pt')\n",
    "dataset_tr.vmax = torch.load('vmax_outputs.pt')\n",
    "dataset_tr.vmin_p = torch.load('vmin_params.pt')\n",
    "dataset_tr.vmax_p = torch.load('vmax_params.pt')\n",
    "\n",
    "print(dataset_tr.vmin_p)\n",
    "print(dataset_tr.vmax_p)"
   ]
  },
  {
   "cell_type": "code",
   "execution_count": 13,
   "id": "905b0d73",
   "metadata": {},
   "outputs": [
    {
     "name": "stdout",
     "output_type": "stream",
     "text": [
      "Total number of files:  1024\n"
     ]
    }
   ],
   "source": [
    "path = \"/bigdata/hplsim/aipp/Anna/FEL/gaussian_init/radiation/validation_data_test\"\n",
    "onlyfiles = [path+'/'+f for f in listdir(path) if isfile(join(path, f))]\n",
    "\n",
    "dataset_val = dataset.PCDataset(onlyfiles, get_file_radiation, num_files=-1)"
   ]
  },
  {
   "cell_type": "code",
   "execution_count": 14,
   "id": "cb2cdf12",
   "metadata": {},
   "outputs": [],
   "source": [
    "vmin = dataset_tr.vmin\n",
    "vmax = dataset_tr.vmax\n",
    "vmin_p = dataset_tr.vmin_p\n",
    "vmax_p = dataset_tr.vmax_p"
   ]
  },
  {
   "cell_type": "markdown",
   "id": "87c63d08",
   "metadata": {},
   "source": [
    "# Dataset"
   ]
  },
  {
   "cell_type": "markdown",
   "id": "b840a5ae",
   "metadata": {},
   "source": [
    "Let's test our implementation "
   ]
  },
  {
   "cell_type": "code",
   "execution_count": 15,
   "id": "13277710",
   "metadata": {},
   "outputs": [],
   "source": [
    "_,x = dataset_tr[0]\n",
    "x = x.numpy()\n",
    "x_ = decode(*encode(x,20,5,0.05))"
   ]
  },
  {
   "cell_type": "code",
   "execution_count": 16,
   "id": "585d06c9",
   "metadata": {},
   "outputs": [
    {
     "data": {
      "image/png": "[encoded data removed]",
      "text/plain": [
       "<Figure size 500x500 with 2 Axes>"
      ]
     },
     "metadata": {},
     "output_type": "display_data"
    }
   ],
   "source": [
    "fig, ax = plt.subplots(1,2, figsize=(5,5))\n",
    "ax[0].imshow(x)\n",
    "ax[0].set_title('Ground truth')\n",
    "ax[1].imshow(x_)\n",
    "ax[1].set_title('Decoded-encoded image')\n",
    "fig.tight_layout()"
   ]
  },
  {
   "cell_type": "markdown",
   "id": "296176da",
   "metadata": {},
   "source": [
    "### Pre-process dataset"
   ]
  },
  {
   "cell_type": "markdown",
   "id": "10203859",
   "metadata": {},
   "source": [
    "We now want to create a dataset for learning a model from particle's parameters $y$\n",
    "to resulting parabolas $z$, i.e. $\\Phi: Y \\rightarrow Z$"
   ]
  },
  {
   "cell_type": "code",
   "execution_count": 18,
   "id": "beead691",
   "metadata": {},
   "outputs": [],
   "source": [
    "# training data. Converting might take a while, so better save it afterwards for quick re-using.\n",
    "if not isfile('proc_data_tr'):\n",
    "    proc_data_tr = []\n",
    "    save = True\n",
    "    convert_params = {'int_distance': 20, 'num_pars': 5, 'threshold': 0.05}\n",
    "\n",
    "    for y,x in tqdm(dataset_tr):\n",
    "        # normalize image and parameters\n",
    "        y = (y - vmin_p) / (vmax_p - vmin_p)\n",
    "        x = (x - vmin) / (vmax - vmin)\n",
    "\n",
    "        params, vals = encode(x.numpy(),**convert_params)    \n",
    "        proc_data_tr.append((torch.tensor(params), \n",
    "                             torch.tensor(vals), \n",
    "                             torch.tensor(y), \n",
    "                             torch.tensor(x)))\n",
    "\n",
    "    if save:\n",
    "        torch.save(proc_data_tr, 'proc_data_tr')"
   ]
  },
  {
   "cell_type": "code",
   "execution_count": 19,
   "id": "c2ba1779",
   "metadata": {},
   "outputs": [],
   "source": [
    "if not isfile('proc_data_val'):\n",
    "    proc_data_val = []\n",
    "    for y,x in tqdm(dataset_val):\n",
    "        # normalize image and parameters\n",
    "        y = (y - vmin_p) / (vmax_p - vmin_p)\n",
    "        x = (x - vmin) / (vmax - vmin)\n",
    "\n",
    "        params, vals = encode(x.numpy(),**convert_params)    \n",
    "        proc_data_val.append((torch.tensor(params), \n",
    "                             torch.tensor(vals), \n",
    "                             torch.tensor(y), \n",
    "                             torch.tensor(x)))\n",
    "\n",
    "    if save:\n",
    "        torch.save(proc_data_val, 'proc_data_val')"
   ]
  },
  {
   "cell_type": "markdown",
   "id": "05c84ffd",
   "metadata": {},
   "source": [
    "# Learning"
   ]
  },
  {
   "cell_type": "code",
   "execution_count": 20,
   "id": "816f7262",
   "metadata": {},
   "outputs": [
    {
     "name": "stderr",
     "output_type": "stream",
     "text": [
      "/home/zhdano82/.conda/envs/pyg/lib/python3.8/site-packages/torchvision/io/image.py:13: UserWarning: Failed to load image Python extension: /home/zhdano82/.conda/envs/pyg/lib/python3.8/site-packages/torchvision/image.so: undefined symbol: _ZN5torch3jit17parseSchemaOrNameERKNSt7__cxx1112basic_stringIcSt11char_traitsIcESaIcEEE\n",
      "  warn(f\"Failed to load image Python extension: {e}\")\n"
     ]
    }
   ],
   "source": [
    "import torch\n",
    "from torch import nn\n",
    "\n",
    "from torch import nn\n",
    "import torch.optim as optim\n",
    "import pytorch_lightning as pl\n",
    "from pytorch_lightning.callbacks import LearningRateMonitor, ModelCheckpoint\n",
    "import torch.nn.functional as F\n",
    "\n",
    "device = torch.device(\"cuda:0\") if torch.cuda.is_available() else torch.device(\"cpu\")"
   ]
  },
  {
   "cell_type": "code",
   "execution_count": 27,
   "id": "1cffe127",
   "metadata": {},
   "outputs": [],
   "source": [
    "class Model(pl.LightningModule):\n",
    "    \"\"\" \n",
    "    Simple 2-MLP model to predict parabola parameters and parabola values\n",
    "    \"\"\"\n",
    "    def __init__(self, lr, pmax, pmin):\n",
    "        super().__init__()\n",
    "        self.param_net = nn.Sequential(\n",
    "            nn.Linear(5,32), nn.ReLU(), \n",
    "            nn.Linear(32,64), nn.ReLU(), \n",
    "            nn.Linear(64,5*3),\n",
    "        )\n",
    "        \n",
    "        self.val_net = nn.Sequential(\n",
    "            nn.Linear(5,32), nn.ReLU(), \n",
    "            nn.Linear(32,128), nn.ReLU(), \n",
    "            nn.Linear(128,5*101),\n",
    "        )\n",
    "        # to normalize parabola's parameters\n",
    "        self.pmax, self.pmin = pmax, pmin\n",
    "        \n",
    "        self.par_loss = nn.L1Loss()\n",
    "        self.val_loss = nn.MSELoss()\n",
    "        self.lr = lr\n",
    "    \n",
    "    def forward(self, x):\n",
    "        p = self.param_net(x).view(-1,5,3)\n",
    "        v = self.val_net(x).view(-1,5,101)\n",
    "        return p,v\n",
    "    \n",
    "    def configure_optimizers(self):\n",
    "        optimizer = optim.AdamW(self.parameters(), lr=self.lr)\n",
    "        return {\"optimizer\": optimizer}\n",
    "    \n",
    "    def loss(self, batch):\n",
    "        params, vals, y, _ = batch\n",
    "        params = (params - self.pmin) / (self.pmax - self.pmin)\n",
    "        pred_p, pred_v = self(y.float())\n",
    "        return self.par_loss(params.float(), pred_p) + self.val_loss(vals.float(), pred_v)\n",
    "    \n",
    "    def training_step(self, batch, batch_idx):\n",
    "        loss = self.loss(batch)                             \n",
    "        self.log('train_loss', loss, prog_bar=True, on_step=False, on_epoch=True)\n",
    "        return loss\n",
    "    \n",
    "    def validation_step(self, batch, batch_idx):\n",
    "        loss = self.loss(batch)\n",
    "        self.log('val_loss', loss, prog_bar=True, on_step=False, on_epoch=True)\n",
    "    \n",
    "    def test_step(self, batch, batch_idx):\n",
    "        loss = self.loss(batch)\n",
    "        self.log('test_loss', loss)"
   ]
  },
  {
   "cell_type": "code",
   "execution_count": 22,
   "id": "e3613dfc",
   "metadata": {},
   "outputs": [],
   "source": [
    "loader_tr = DataLoader(torch.load('proc_data_tr'), batch_size=32)\n",
    "loader_val = DataLoader(torch.load('proc_data_val'), batch_size=32)"
   ]
  },
  {
   "cell_type": "code",
   "execution_count": 23,
   "id": "23f86553",
   "metadata": {},
   "outputs": [],
   "source": [
    "# for min-max normalization of parabola's parameters\n",
    "pmax = torch.cat([x[0] for x in loader_tr.dataset]).max().item()\n",
    "pmin = torch.cat([x[0] for x in loader_tr.dataset]).min().item()"
   ]
  },
  {
   "cell_type": "code",
   "execution_count": 28,
   "id": "1f5218da",
   "metadata": {},
   "outputs": [],
   "source": [
    "model = Model(1e-4, pmax, pmin).float()"
   ]
  },
  {
   "cell_type": "code",
   "execution_count": 29,
   "id": "8333f218",
   "metadata": {},
   "outputs": [
    {
     "name": "stderr",
     "output_type": "stream",
     "text": [
      "Multiprocessing is handled by SLURM.\n",
      "GPU available: True, used: True\n",
      "TPU available: False, using: 0 TPU cores\n",
      "IPU available: False, using: 0 IPUs\n",
      "HPU available: False, using: 0 HPUs\n"
     ]
    }
   ],
   "source": [
    "trainer = pl.Trainer(accelerator=\"gpu\" if str(device).startswith(\"cuda\") else \"cpu\",\n",
    "                     devices='auto',\n",
    "                     max_epochs=50)"
   ]
  },
  {
   "cell_type": "code",
   "execution_count": 30,
   "id": "ca14edd0",
   "metadata": {},
   "outputs": [
    {
     "name": "stderr",
     "output_type": "stream",
     "text": [
      "LOCAL_RANK: 0 - CUDA_VISIBLE_DEVICES: [0]\n",
      "\n",
      "  | Name      | Type       | Params\n",
      "-----------------------------------------\n",
      "0 | param_net | Sequential | 3.3 K \n",
      "1 | val_net   | Sequential | 69.6 K\n",
      "2 | par_loss  | L1Loss     | 0     \n",
      "3 | val_loss  | MSELoss    | 0     \n",
      "-----------------------------------------\n",
      "72.8 K    Trainable params\n",
      "0         Non-trainable params\n",
      "72.8 K    Total params\n",
      "0.291     Total estimated model params size (MB)\n",
      "SLURM auto-requeueing enabled. Setting signal handlers.\n"
     ]
    },
    {
     "data": {
      "application/vnd.jupyter.widget-view+json": {
       "model_id": "",
       "version_major": 2,
       "version_minor": 0
      },
      "text/plain": [
       "Sanity Checking: 0it [00:00, ?it/s]"
      ]
     },
     "metadata": {},
     "output_type": "display_data"
    },
    {
     "name": "stderr",
     "output_type": "stream",
     "text": [
      "/home/zhdano82/.conda/envs/pyg/lib/python3.8/site-packages/pytorch_lightning/trainer/connectors/data_connector.py:240: PossibleUserWarning: The dataloader, train_dataloader, does not have many workers which may be a bottleneck. Consider increasing the value of the `num_workers` argument` (try 48 which is the number of cpus on this machine) in the `DataLoader` init to improve performance.\n",
      "  rank_zero_warn(\n"
     ]
    },
    {
     "data": {
      "application/vnd.jupyter.widget-view+json": {
       "model_id": "9b300b2786c5465c84932e962f14b081",
       "version_major": 2,
       "version_minor": 0
      },
      "text/plain": [
       "Training: 0it [00:00, ?it/s]"
      ]
     },
     "metadata": {},
     "output_type": "display_data"
    },
    {
     "data": {
      "application/vnd.jupyter.widget-view+json": {
       "model_id": "",
       "version_major": 2,
       "version_minor": 0
      },
      "text/plain": [
       "Validation: 0it [00:00, ?it/s]"
      ]
     },
     "metadata": {},
     "output_type": "display_data"
    },
    {
     "data": {
      "application/vnd.jupyter.widget-view+json": {
       "model_id": "",
       "version_major": 2,
       "version_minor": 0
      },
      "text/plain": [
       "Validation: 0it [00:00, ?it/s]"
      ]
     },
     "metadata": {},
     "output_type": "display_data"
    },
    {
     "data": {
      "application/vnd.jupyter.widget-view+json": {
       "model_id": "",
       "version_major": 2,
       "version_minor": 0
      },
      "text/plain": [
       "Validation: 0it [00:00, ?it/s]"
      ]
     },
     "metadata": {},
     "output_type": "display_data"
    },
    {
     "data": {
      "application/vnd.jupyter.widget-view+json": {
       "model_id": "",
       "version_major": 2,
       "version_minor": 0
      },
      "text/plain": [
       "Validation: 0it [00:00, ?it/s]"
      ]
     },
     "metadata": {},
     "output_type": "display_data"
    },
    {
     "data": {
      "application/vnd.jupyter.widget-view+json": {
       "model_id": "",
       "version_major": 2,
       "version_minor": 0
      },
      "text/plain": [
       "Validation: 0it [00:00, ?it/s]"
      ]
     },
     "metadata": {},
     "output_type": "display_data"
    },
    {
     "data": {
      "application/vnd.jupyter.widget-view+json": {
       "model_id": "",
       "version_major": 2,
       "version_minor": 0
      },
      "text/plain": [
       "Validation: 0it [00:00, ?it/s]"
      ]
     },
     "metadata": {},
     "output_type": "display_data"
    },
    {
     "data": {
      "application/vnd.jupyter.widget-view+json": {
       "model_id": "",
       "version_major": 2,
       "version_minor": 0
      },
      "text/plain": [
       "Validation: 0it [00:00, ?it/s]"
      ]
     },
     "metadata": {},
     "output_type": "display_data"
    },
    {
     "data": {
      "application/vnd.jupyter.widget-view+json": {
       "model_id": "",
       "version_major": 2,
       "version_minor": 0
      },
      "text/plain": [
       "Validation: 0it [00:00, ?it/s]"
      ]
     },
     "metadata": {},
     "output_type": "display_data"
    },
    {
     "data": {
      "application/vnd.jupyter.widget-view+json": {
       "model_id": "",
       "version_major": 2,
       "version_minor": 0
      },
      "text/plain": [
       "Validation: 0it [00:00, ?it/s]"
      ]
     },
     "metadata": {},
     "output_type": "display_data"
    },
    {
     "data": {
      "application/vnd.jupyter.widget-view+json": {
       "model_id": "",
       "version_major": 2,
       "version_minor": 0
      },
      "text/plain": [
       "Validation: 0it [00:00, ?it/s]"
      ]
     },
     "metadata": {},
     "output_type": "display_data"
    },
    {
     "data": {
      "application/vnd.jupyter.widget-view+json": {
       "model_id": "",
       "version_major": 2,
       "version_minor": 0
      },
      "text/plain": [
       "Validation: 0it [00:00, ?it/s]"
      ]
     },
     "metadata": {},
     "output_type": "display_data"
    },
    {
     "data": {
      "application/vnd.jupyter.widget-view+json": {
       "model_id": "",
       "version_major": 2,
       "version_minor": 0
      },
      "text/plain": [
       "Validation: 0it [00:00, ?it/s]"
      ]
     },
     "metadata": {},
     "output_type": "display_data"
    },
    {
     "data": {
      "application/vnd.jupyter.widget-view+json": {
       "model_id": "",
       "version_major": 2,
       "version_minor": 0
      },
      "text/plain": [
       "Validation: 0it [00:00, ?it/s]"
      ]
     },
     "metadata": {},
     "output_type": "display_data"
    },
    {
     "data": {
      "application/vnd.jupyter.widget-view+json": {
       "model_id": "",
       "version_major": 2,
       "version_minor": 0
      },
      "text/plain": [
       "Validation: 0it [00:00, ?it/s]"
      ]
     },
     "metadata": {},
     "output_type": "display_data"
    },
    {
     "data": {
      "application/vnd.jupyter.widget-view+json": {
       "model_id": "",
       "version_major": 2,
       "version_minor": 0
      },
      "text/plain": [
       "Validation: 0it [00:00, ?it/s]"
      ]
     },
     "metadata": {},
     "output_type": "display_data"
    },
    {
     "data": {
      "application/vnd.jupyter.widget-view+json": {
       "model_id": "",
       "version_major": 2,
       "version_minor": 0
      },
      "text/plain": [
       "Validation: 0it [00:00, ?it/s]"
      ]
     },
     "metadata": {},
     "output_type": "display_data"
    },
    {
     "data": {
      "application/vnd.jupyter.widget-view+json": {
       "model_id": "",
       "version_major": 2,
       "version_minor": 0
      },
      "text/plain": [
       "Validation: 0it [00:00, ?it/s]"
      ]
     },
     "metadata": {},
     "output_type": "display_data"
    },
    {
     "data": {
      "application/vnd.jupyter.widget-view+json": {
       "model_id": "",
       "version_major": 2,
       "version_minor": 0
      },
      "text/plain": [
       "Validation: 0it [00:00, ?it/s]"
      ]
     },
     "metadata": {},
     "output_type": "display_data"
    },
    {
     "data": {
      "application/vnd.jupyter.widget-view+json": {
       "model_id": "",
       "version_major": 2,
       "version_minor": 0
      },
      "text/plain": [
       "Validation: 0it [00:00, ?it/s]"
      ]
     },
     "metadata": {},
     "output_type": "display_data"
    },
    {
     "data": {
      "application/vnd.jupyter.widget-view+json": {
       "model_id": "",
       "version_major": 2,
       "version_minor": 0
      },
      "text/plain": [
       "Validation: 0it [00:00, ?it/s]"
      ]
     },
     "metadata": {},
     "output_type": "display_data"
    },
    {
     "data": {
      "application/vnd.jupyter.widget-view+json": {
       "model_id": "",
       "version_major": 2,
       "version_minor": 0
      },
      "text/plain": [
       "Validation: 0it [00:00, ?it/s]"
      ]
     },
     "metadata": {},
     "output_type": "display_data"
    },
    {
     "data": {
      "application/vnd.jupyter.widget-view+json": {
       "model_id": "",
       "version_major": 2,
       "version_minor": 0
      },
      "text/plain": [
       "Validation: 0it [00:00, ?it/s]"
      ]
     },
     "metadata": {},
     "output_type": "display_data"
    },
    {
     "data": {
      "application/vnd.jupyter.widget-view+json": {
       "model_id": "",
       "version_major": 2,
       "version_minor": 0
      },
      "text/plain": [
       "Validation: 0it [00:00, ?it/s]"
      ]
     },
     "metadata": {},
     "output_type": "display_data"
    },
    {
     "data": {
      "application/vnd.jupyter.widget-view+json": {
       "model_id": "",
       "version_major": 2,
       "version_minor": 0
      },
      "text/plain": [
       "Validation: 0it [00:00, ?it/s]"
      ]
     },
     "metadata": {},
     "output_type": "display_data"
    },
    {
     "data": {
      "application/vnd.jupyter.widget-view+json": {
       "model_id": "",
       "version_major": 2,
       "version_minor": 0
      },
      "text/plain": [
       "Validation: 0it [00:00, ?it/s]"
      ]
     },
     "metadata": {},
     "output_type": "display_data"
    },
    {
     "data": {
      "application/vnd.jupyter.widget-view+json": {
       "model_id": "",
       "version_major": 2,
       "version_minor": 0
      },
      "text/plain": [
       "Validation: 0it [00:00, ?it/s]"
      ]
     },
     "metadata": {},
     "output_type": "display_data"
    },
    {
     "data": {
      "application/vnd.jupyter.widget-view+json": {
       "model_id": "",
       "version_major": 2,
       "version_minor": 0
      },
      "text/plain": [
       "Validation: 0it [00:00, ?it/s]"
      ]
     },
     "metadata": {},
     "output_type": "display_data"
    },
    {
     "data": {
      "application/vnd.jupyter.widget-view+json": {
       "model_id": "",
       "version_major": 2,
       "version_minor": 0
      },
      "text/plain": [
       "Validation: 0it [00:00, ?it/s]"
      ]
     },
     "metadata": {},
     "output_type": "display_data"
    },
    {
     "data": {
      "application/vnd.jupyter.widget-view+json": {
       "model_id": "",
       "version_major": 2,
       "version_minor": 0
      },
      "text/plain": [
       "Validation: 0it [00:00, ?it/s]"
      ]
     },
     "metadata": {},
     "output_type": "display_data"
    },
    {
     "data": {
      "application/vnd.jupyter.widget-view+json": {
       "model_id": "",
       "version_major": 2,
       "version_minor": 0
      },
      "text/plain": [
       "Validation: 0it [00:00, ?it/s]"
      ]
     },
     "metadata": {},
     "output_type": "display_data"
    },
    {
     "data": {
      "application/vnd.jupyter.widget-view+json": {
       "model_id": "",
       "version_major": 2,
       "version_minor": 0
      },
      "text/plain": [
       "Validation: 0it [00:00, ?it/s]"
      ]
     },
     "metadata": {},
     "output_type": "display_data"
    },
    {
     "data": {
      "application/vnd.jupyter.widget-view+json": {
       "model_id": "",
       "version_major": 2,
       "version_minor": 0
      },
      "text/plain": [
       "Validation: 0it [00:00, ?it/s]"
      ]
     },
     "metadata": {},
     "output_type": "display_data"
    },
    {
     "data": {
      "application/vnd.jupyter.widget-view+json": {
       "model_id": "",
       "version_major": 2,
       "version_minor": 0
      },
      "text/plain": [
       "Validation: 0it [00:00, ?it/s]"
      ]
     },
     "metadata": {},
     "output_type": "display_data"
    },
    {
     "data": {
      "application/vnd.jupyter.widget-view+json": {
       "model_id": "",
       "version_major": 2,
       "version_minor": 0
      },
      "text/plain": [
       "Validation: 0it [00:00, ?it/s]"
      ]
     },
     "metadata": {},
     "output_type": "display_data"
    },
    {
     "data": {
      "application/vnd.jupyter.widget-view+json": {
       "model_id": "",
       "version_major": 2,
       "version_minor": 0
      },
      "text/plain": [
       "Validation: 0it [00:00, ?it/s]"
      ]
     },
     "metadata": {},
     "output_type": "display_data"
    },
    {
     "data": {
      "application/vnd.jupyter.widget-view+json": {
       "model_id": "",
       "version_major": 2,
       "version_minor": 0
      },
      "text/plain": [
       "Validation: 0it [00:00, ?it/s]"
      ]
     },
     "metadata": {},
     "output_type": "display_data"
    },
    {
     "data": {
      "application/vnd.jupyter.widget-view+json": {
       "model_id": "",
       "version_major": 2,
       "version_minor": 0
      },
      "text/plain": [
       "Validation: 0it [00:00, ?it/s]"
      ]
     },
     "metadata": {},
     "output_type": "display_data"
    },
    {
     "data": {
      "application/vnd.jupyter.widget-view+json": {
       "model_id": "",
       "version_major": 2,
       "version_minor": 0
      },
      "text/plain": [
       "Validation: 0it [00:00, ?it/s]"
      ]
     },
     "metadata": {},
     "output_type": "display_data"
    },
    {
     "data": {
      "application/vnd.jupyter.widget-view+json": {
       "model_id": "",
       "version_major": 2,
       "version_minor": 0
      },
      "text/plain": [
       "Validation: 0it [00:00, ?it/s]"
      ]
     },
     "metadata": {},
     "output_type": "display_data"
    },
    {
     "data": {
      "application/vnd.jupyter.widget-view+json": {
       "model_id": "",
       "version_major": 2,
       "version_minor": 0
      },
      "text/plain": [
       "Validation: 0it [00:00, ?it/s]"
      ]
     },
     "metadata": {},
     "output_type": "display_data"
    },
    {
     "data": {
      "application/vnd.jupyter.widget-view+json": {
       "model_id": "",
       "version_major": 2,
       "version_minor": 0
      },
      "text/plain": [
       "Validation: 0it [00:00, ?it/s]"
      ]
     },
     "metadata": {},
     "output_type": "display_data"
    },
    {
     "data": {
      "application/vnd.jupyter.widget-view+json": {
       "model_id": "",
       "version_major": 2,
       "version_minor": 0
      },
      "text/plain": [
       "Validation: 0it [00:00, ?it/s]"
      ]
     },
     "metadata": {},
     "output_type": "display_data"
    },
    {
     "data": {
      "application/vnd.jupyter.widget-view+json": {
       "model_id": "",
       "version_major": 2,
       "version_minor": 0
      },
      "text/plain": [
       "Validation: 0it [00:00, ?it/s]"
      ]
     },
     "metadata": {},
     "output_type": "display_data"
    },
    {
     "data": {
      "application/vnd.jupyter.widget-view+json": {
       "model_id": "",
       "version_major": 2,
       "version_minor": 0
      },
      "text/plain": [
       "Validation: 0it [00:00, ?it/s]"
      ]
     },
     "metadata": {},
     "output_type": "display_data"
    },
    {
     "data": {
      "application/vnd.jupyter.widget-view+json": {
       "model_id": "",
       "version_major": 2,
       "version_minor": 0
      },
      "text/plain": [
       "Validation: 0it [00:00, ?it/s]"
      ]
     },
     "metadata": {},
     "output_type": "display_data"
    },
    {
     "data": {
      "application/vnd.jupyter.widget-view+json": {
       "model_id": "",
       "version_major": 2,
       "version_minor": 0
      },
      "text/plain": [
       "Validation: 0it [00:00, ?it/s]"
      ]
     },
     "metadata": {},
     "output_type": "display_data"
    },
    {
     "data": {
      "application/vnd.jupyter.widget-view+json": {
       "model_id": "",
       "version_major": 2,
       "version_minor": 0
      },
      "text/plain": [
       "Validation: 0it [00:00, ?it/s]"
      ]
     },
     "metadata": {},
     "output_type": "display_data"
    },
    {
     "data": {
      "application/vnd.jupyter.widget-view+json": {
       "model_id": "",
       "version_major": 2,
       "version_minor": 0
      },
      "text/plain": [
       "Validation: 0it [00:00, ?it/s]"
      ]
     },
     "metadata": {},
     "output_type": "display_data"
    },
    {
     "data": {
      "application/vnd.jupyter.widget-view+json": {
       "model_id": "",
       "version_major": 2,
       "version_minor": 0
      },
      "text/plain": [
       "Validation: 0it [00:00, ?it/s]"
      ]
     },
     "metadata": {},
     "output_type": "display_data"
    },
    {
     "data": {
      "application/vnd.jupyter.widget-view+json": {
       "model_id": "",
       "version_major": 2,
       "version_minor": 0
      },
      "text/plain": [
       "Validation: 0it [00:00, ?it/s]"
      ]
     },
     "metadata": {},
     "output_type": "display_data"
    }
   ],
   "source": [
    "trainer.fit(model, loader_tr, loader_val)"
   ]
  },
  {
   "cell_type": "markdown",
   "id": "657c9d4e",
   "metadata": {},
   "source": [
    "# Testing"
   ]
  },
  {
   "cell_type": "code",
   "execution_count": 32,
   "id": "b9c318fe",
   "metadata": {},
   "outputs": [
    {
     "data": {
      "text/plain": [
       "Model(\n",
       "  (param_net): Sequential(\n",
       "    (0): Linear(in_features=5, out_features=32, bias=True)\n",
       "    (1): ReLU()\n",
       "    (2): Linear(in_features=32, out_features=64, bias=True)\n",
       "    (3): ReLU()\n",
       "    (4): Linear(in_features=64, out_features=15, bias=True)\n",
       "  )\n",
       "  (val_net): Sequential(\n",
       "    (0): Linear(in_features=5, out_features=32, bias=True)\n",
       "    (1): ReLU()\n",
       "    (2): Linear(in_features=32, out_features=128, bias=True)\n",
       "    (3): ReLU()\n",
       "    (4): Linear(in_features=128, out_features=505, bias=True)\n",
       "  )\n",
       "  (par_loss): L1Loss()\n",
       "  (val_loss): MSELoss()\n",
       ")"
      ]
     },
     "execution_count": 32,
     "metadata": {},
     "output_type": "execute_result"
    }
   ],
   "source": [
    "model.cuda()"
   ]
  },
  {
   "cell_type": "code",
   "execution_count": 33,
   "id": "0ed7d2ce",
   "metadata": {},
   "outputs": [],
   "source": [
    "batch = next(iter(loader_val))\n",
    "params, vals, y, x = batch\n",
    "params = (params - model.pmin) / (model.pmax - model.pmin)\n",
    "pred_p, pred_v = model(y.float().cuda())"
   ]
  },
  {
   "cell_type": "code",
   "execution_count": 34,
   "id": "c54941b3",
   "metadata": {},
   "outputs": [],
   "source": [
    "pred_p = (pred_p * (model.pmax - model.pmin) + model.pmin).cpu().detach().numpy()\n",
    "pred_v = pred_v.cpu().detach().numpy()"
   ]
  },
  {
   "cell_type": "code",
   "execution_count": 35,
   "id": "2d7709b2",
   "metadata": {},
   "outputs": [
    {
     "data": {
      "image/png": "[encoded data removed]",
      "text/plain": [
       "<Figure size 640x480 with 10 Axes>"
      ]
     },
     "metadata": {},
     "output_type": "display_data"
    }
   ],
   "source": [
    "k = random.choice(list(range(32)))\n",
    "x_ = decode(pred_p[k], pred_v[k])\n",
    "\n",
    "fig, ax = plt.subplots(5,2)\n",
    "\n",
    "for i in range(5):\n",
    "    k = random.choice(list(range(32)))\n",
    "    x_ = decode(pred_p[k], pred_v[k]) \n",
    "    ax[i,0].imshow(x[k], vmin=0, vmax=1, aspect = 'auto')\n",
    "    ax[i,1].imshow(x_, vmin=0, vmax=1, aspect = 'auto')\n",
    "    \n",
    "ax[0,0].set_title('Ground Truth')\n",
    "ax[0,1].set_title('Model prediction')\n",
    "\n",
    "fig.tight_layout()"
   ]
  },
  {
   "cell_type": "code",
   "execution_count": null,
   "id": "437b42de",
   "metadata": {},
   "outputs": [],
   "source": []
  },
  {
   "cell_type": "code",
   "execution_count": null,
   "id": "ed4a963b",
   "metadata": {},
   "outputs": [],
   "source": []
  }
 ],
 "metadata": {
  "kernelspec": {
   "display_name": "pyg",
   "language": "python",
   "name": "pyg"
  },
  "language_info": {
   "codemirror_mode": {
    "name": "ipython",
    "version": 3
   },
   "file_extension": ".py",
   "mimetype": "text/x-python",
   "name": "python",
   "nbconvert_exporter": "python",
   "pygments_lexer": "ipython3",
   "version": "3.8.16"
  }
 },
 "nbformat": 4,
 "nbformat_minor": 5
}
